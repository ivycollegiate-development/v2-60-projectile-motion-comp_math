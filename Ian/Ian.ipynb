{
 "cells": [
  {
   "cell_type": "code",
   "execution_count": 1,
   "metadata": {},
   "outputs": [
    {
     "name": "stdout",
     "output_type": "stream",
     "text": [
      "[0, 0.1, 0.2, 0.30000000000000004, 0.4, 0.5, 0.6, 0.7, 0.7999999999999999, 0.8999999999999999, 0.9999999999999999]\n"
     ]
    }
   ],
   "source": [
    "def frange(start, final, increment): \n",
    "    numbers = []\n",
    "    while start < final: \n",
    "        numbers.append(start) \n",
    "        start = start + increment\n",
    "    return numbers\n",
    "\n",
    "time_points = frange(0, 1, 0.1)\n",
    "print(time_points)"
   ]
  },
  {
   "cell_type": "code",
   "execution_count": 6,
   "metadata": {},
   "outputs": [],
   "source": [
    "from matplotlib import pyplot as plt\n",
    "import math \n",
    "def draw_graph(x,y):\n",
    "    plt.plot(x, y)\n",
    "    plt.xlabel('x coordinate')\n",
    "    plt.ylabel('y coordinate')\n",
    "    plt.title('Projectile Motion')\n",
    "    plt.show()\n",
    "\n",
    "def draw_trajectory(u,ø):\n",
    "    '''\n",
    "    Parameters:\n",
    "    u: initial velocity (m/s)\n",
    "    ø: Angle at Launch (degrees)\n",
    "    '''\n",
    "    ø = math.radians(ø)\n",
    "    g = 9.8\n",
    "\n",
    "    t_flight = 2*u*math.sin(ø)/g\n",
    "    \n",
    "    intervals = frange(0, t_flight, 0.001)\n",
    "    X = []\n",
    "    y = []\n",
    "\n",
    "    for t in interval:\n",
    "        x.append(u*math.cos(ø)*t)\n",
    "        y.append(u*math.sin(ø)*t - 0.5*g*t*t)\n",
    "    draw_graph(x, y)\n"
   ]
  }
 ],
 "metadata": {
  "kernelspec": {
   "display_name": "Python 3",
   "language": "python",
   "name": "python3"
  },
  "language_info": {
   "codemirror_mode": {
    "name": "ipython",
    "version": 3
   },
   "file_extension": ".py",
   "mimetype": "text/x-python",
   "name": "python",
   "nbconvert_exporter": "python",
   "pygments_lexer": "ipython3",
   "version": "3.12.1"
  }
 },
 "nbformat": 4,
 "nbformat_minor": 2
}

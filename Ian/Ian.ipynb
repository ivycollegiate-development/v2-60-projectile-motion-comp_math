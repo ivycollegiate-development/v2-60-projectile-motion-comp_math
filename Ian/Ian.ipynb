{
 "cells": [
  {
   "cell_type": "code",
   "execution_count": null,
   "metadata": {},
   "outputs": [],
   "source": [
    "def frange(start, final, increment): \n",
    "numbers = []\n",
    "while start < final: \n",
    "    numbers.append(start) \n",
    "    start = start + increment\n",
    "return numbers\n",
    "\n",
    "time_points = frange{0, 1, 0.1}\n",
    "print(time_points)"
   ]
  },
  {
   "cell_type": "code",
   "execution_count": null,
   "metadata": {},
   "outputs": [],
   "source": []
  }
 ],
 "metadata": {
  "kernelspec": {
   "display_name": "Python 3",
   "language": "python",
   "name": "python3"
  },
  "language_info": {
   "name": "python",
   "version": "3.12.1"
  }
 },
 "nbformat": 4,
 "nbformat_minor": 2
}

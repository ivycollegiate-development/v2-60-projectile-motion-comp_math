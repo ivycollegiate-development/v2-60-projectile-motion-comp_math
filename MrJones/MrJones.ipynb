{
 "cells": [
  {
   "cell_type": "code",
   "execution_count": null,
   "metadata": {},
   "outputs": [
    {
     "name": "stdout",
     "output_type": "stream",
     "text": [
      "[0, 0.1, 0.2, 0.30000000000000004, 0.4, 0.5, 0.6, 0.7, 0.7999999999999999, 0.8999999999999999, 0.9999999999999999]\n"
     ]
    }
   ],
   "source": [
    "def frange(start, final, increment):\n",
    "    numbers = []\n",
    "    while start < final:\n",
    "        numbers.append(start)\n",
    "        start = start + increment\n",
    "    return numbers\n",
    "\n",
    "# Generate time points from 0 to 1 second in 0.1 intervals\n",
    "\n",
    "time_points = frange(0, 1, 0.1)\n",
    "print (time_points)"
   ]
  },
  {
   "cell_type": "code",
   "execution_count": null,
   "metadata": {},
   "outputs": [],
   "source": [
    "from matplotlib import pyplot as plt\n",
    "import math\n",
    "\n",
    "def draw_graph (x, y):\n",
    "    # Creates the trajectory list or plot\n",
    "    plt.plot(x, y)\n",
    "    plt.xlabel('x coordinate')\n",
    "    plt.ylabel('y coordinate')\n",
    "    plt.title('Projectile Motion')\n",
    "\n",
    "def draw_trajectory(u, theta)\n",
    "    \n"
   ]
  },
  {
   "cell_type": "code",
   "execution_count": null,
   "metadata": {},
   "outputs": [],
   "source": []
  }
 ],
 "metadata": {
  "kernelspec": {
   "display_name": "Python 3",
   "language": "python",
   "name": "python3"
  },
  "language_info": {
   "codemirror_mode": {
    "name": "ipython",
    "version": 3
   },
   "file_extension": ".py",
   "mimetype": "text/x-python",
   "name": "python",
   "nbconvert_exporter": "python",
   "pygments_lexer": "ipython3",
   "version": "3.12.1"
  }
 },
 "nbformat": 4,
 "nbformat_minor": 2
}

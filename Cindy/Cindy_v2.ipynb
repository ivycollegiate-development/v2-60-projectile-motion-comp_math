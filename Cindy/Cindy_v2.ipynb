{
 "cells": [
  {
   "cell_type": "code",
   "execution_count": null,
   "metadata": {},
   "outputs": [],
   "source": [
    "from matplotlib import pyplot as plt\n",
    "import math\n",
    "\n",
    "def frange(start, final, increment):\n",
    "    numbers = []\n",
    "    while start < final:\n",
    "        numbers.append(start)\n",
    "        start = start + increment\n",
    "    return numbers\n",
    "\n",
    "time_points = frange(0, 1, 0.1)\n",
    "\n",
    "def draw_graph (x, y):\n",
    "    # Creates the trajectory list or plot\n",
    "    plt.plot(x, y)\n",
    "    plt.xlabel('x coordinate')\n",
    "    plt.ylabel('y coordinate')\n",
    "    plt.title('Projectile Motion')\n",
    "\n",
    "def draw_trajectory(u, theta):\n",
    "    '''\n",
    "    Parameters:\n",
    "    u: initial velocity (m/s)\n",
    "    theta: Angle at Launch (degrees)\n",
    "    '''\n",
    "    theta = math.radians(theta)\n",
    "    g = 9.8\n",
    "\n",
    "    t_flight = 2*u*math.sin(theta)/g\n",
    "\n",
    "    intervals = frange(0, t_flight, 0.001)\n",
    "\n",
    "    x = []\n",
    "    y = []\n",
    "\n",
    "    for t in invervals:\n",
    "        x.append(u*math.cos(theta)*t)\n",
    "        y.append(u*math.sin(theta)*t - 0.5*g*t*t)\n",
    "\n",
    "    draw_graph(x, y)"
   ]
  }
 ],
 "metadata": {
  "kernelspec": {
   "display_name": "Python 3",
   "language": "python",
   "name": "python3"
  },
  "language_info": {
   "name": "python",
   "version": "3.12.1"
  }
 },
 "nbformat": 4,
 "nbformat_minor": 2
}
